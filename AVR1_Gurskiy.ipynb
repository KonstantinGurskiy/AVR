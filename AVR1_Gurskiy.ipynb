{
  "nbformat": 4,
  "nbformat_minor": 0,
  "metadata": {
    "colab": {
      "provenance": [],
      "collapsed_sections": []
    },
    "kernelspec": {
      "name": "python3",
      "display_name": "Python 3"
    },
    "language_info": {
      "name": "python"
    }
  },
  "cells": [
    {
      "cell_type": "code",
      "execution_count": 88,
      "metadata": {
        "id": "UjuAGMub55et"
      },
      "outputs": [],
      "source": [
        "import pandas as pd\n",
        "import numpy as np\n",
        "import seaborn as sns\n",
        "from matplotlib import pyplot as plt\n",
        "import scipy"
      ]
    },
    {
      "cell_type": "code",
      "source": [
        "data = pd.read_csv(\"dataset.csv\",\";\")"
      ],
      "metadata": {
        "colab": {
          "base_uri": "https://localhost:8080/"
        },
        "id": "AnIjkE8D_pOh",
        "outputId": "7dc46d46-558d-40e8-f66c-818d71f94982"
      },
      "execution_count": 4,
      "outputs": [
        {
          "output_type": "stream",
          "name": "stderr",
          "text": [
            "/usr/local/lib/python3.7/dist-packages/IPython/core/interactiveshell.py:3326: FutureWarning: In a future version of pandas all arguments of read_csv except for the argument 'filepath_or_buffer' will be keyword-only\n",
            "  exec(code_obj, self.user_global_ns, self.user_ns)\n"
          ]
        }
      ]
    },
    {
      "cell_type": "code",
      "source": [
        "data.head()"
      ],
      "metadata": {
        "colab": {
          "base_uri": "https://localhost:8080/",
          "height": 206
        },
        "id": "K7Zyd_Q2_swc",
        "outputId": "74ebe8f8-4f5a-4728-a83c-9c279df6d498"
      },
      "execution_count": 5,
      "outputs": [
        {
          "output_type": "execute_result",
          "data": {
            "text/plain": [
              "              DateTime  Смертей за день  Заражений за день  \\\n",
              "0  2020-01-22 00:00:00               17                557   \n",
              "1  2020-01-23 00:00:00                1                100   \n",
              "2  2020-01-24 00:00:00                8                287   \n",
              "3  2020-01-25 00:00:00               16                493   \n",
              "4  2020-01-26 00:00:00               14                683   \n",
              "\n",
              "   Выздоровлений за день  \n",
              "0                   30.0  \n",
              "1                    2.0  \n",
              "2                    7.0  \n",
              "3                    3.0  \n",
              "4                   14.0  "
            ],
            "text/html": [
              "\n",
              "  <div id=\"df-547ce5e9-f164-4c86-bc41-45b804989f2e\">\n",
              "    <div class=\"colab-df-container\">\n",
              "      <div>\n",
              "<style scoped>\n",
              "    .dataframe tbody tr th:only-of-type {\n",
              "        vertical-align: middle;\n",
              "    }\n",
              "\n",
              "    .dataframe tbody tr th {\n",
              "        vertical-align: top;\n",
              "    }\n",
              "\n",
              "    .dataframe thead th {\n",
              "        text-align: right;\n",
              "    }\n",
              "</style>\n",
              "<table border=\"1\" class=\"dataframe\">\n",
              "  <thead>\n",
              "    <tr style=\"text-align: right;\">\n",
              "      <th></th>\n",
              "      <th>DateTime</th>\n",
              "      <th>Смертей за день</th>\n",
              "      <th>Заражений за день</th>\n",
              "      <th>Выздоровлений за день</th>\n",
              "    </tr>\n",
              "  </thead>\n",
              "  <tbody>\n",
              "    <tr>\n",
              "      <th>0</th>\n",
              "      <td>2020-01-22 00:00:00</td>\n",
              "      <td>17</td>\n",
              "      <td>557</td>\n",
              "      <td>30.0</td>\n",
              "    </tr>\n",
              "    <tr>\n",
              "      <th>1</th>\n",
              "      <td>2020-01-23 00:00:00</td>\n",
              "      <td>1</td>\n",
              "      <td>100</td>\n",
              "      <td>2.0</td>\n",
              "    </tr>\n",
              "    <tr>\n",
              "      <th>2</th>\n",
              "      <td>2020-01-24 00:00:00</td>\n",
              "      <td>8</td>\n",
              "      <td>287</td>\n",
              "      <td>7.0</td>\n",
              "    </tr>\n",
              "    <tr>\n",
              "      <th>3</th>\n",
              "      <td>2020-01-25 00:00:00</td>\n",
              "      <td>16</td>\n",
              "      <td>493</td>\n",
              "      <td>3.0</td>\n",
              "    </tr>\n",
              "    <tr>\n",
              "      <th>4</th>\n",
              "      <td>2020-01-26 00:00:00</td>\n",
              "      <td>14</td>\n",
              "      <td>683</td>\n",
              "      <td>14.0</td>\n",
              "    </tr>\n",
              "  </tbody>\n",
              "</table>\n",
              "</div>\n",
              "      <button class=\"colab-df-convert\" onclick=\"convertToInteractive('df-547ce5e9-f164-4c86-bc41-45b804989f2e')\"\n",
              "              title=\"Convert this dataframe to an interactive table.\"\n",
              "              style=\"display:none;\">\n",
              "        \n",
              "  <svg xmlns=\"http://www.w3.org/2000/svg\" height=\"24px\"viewBox=\"0 0 24 24\"\n",
              "       width=\"24px\">\n",
              "    <path d=\"M0 0h24v24H0V0z\" fill=\"none\"/>\n",
              "    <path d=\"M18.56 5.44l.94 2.06.94-2.06 2.06-.94-2.06-.94-.94-2.06-.94 2.06-2.06.94zm-11 1L8.5 8.5l.94-2.06 2.06-.94-2.06-.94L8.5 2.5l-.94 2.06-2.06.94zm10 10l.94 2.06.94-2.06 2.06-.94-2.06-.94-.94-2.06-.94 2.06-2.06.94z\"/><path d=\"M17.41 7.96l-1.37-1.37c-.4-.4-.92-.59-1.43-.59-.52 0-1.04.2-1.43.59L10.3 9.45l-7.72 7.72c-.78.78-.78 2.05 0 2.83L4 21.41c.39.39.9.59 1.41.59.51 0 1.02-.2 1.41-.59l7.78-7.78 2.81-2.81c.8-.78.8-2.07 0-2.86zM5.41 20L4 18.59l7.72-7.72 1.47 1.35L5.41 20z\"/>\n",
              "  </svg>\n",
              "      </button>\n",
              "      \n",
              "  <style>\n",
              "    .colab-df-container {\n",
              "      display:flex;\n",
              "      flex-wrap:wrap;\n",
              "      gap: 12px;\n",
              "    }\n",
              "\n",
              "    .colab-df-convert {\n",
              "      background-color: #E8F0FE;\n",
              "      border: none;\n",
              "      border-radius: 50%;\n",
              "      cursor: pointer;\n",
              "      display: none;\n",
              "      fill: #1967D2;\n",
              "      height: 32px;\n",
              "      padding: 0 0 0 0;\n",
              "      width: 32px;\n",
              "    }\n",
              "\n",
              "    .colab-df-convert:hover {\n",
              "      background-color: #E2EBFA;\n",
              "      box-shadow: 0px 1px 2px rgba(60, 64, 67, 0.3), 0px 1px 3px 1px rgba(60, 64, 67, 0.15);\n",
              "      fill: #174EA6;\n",
              "    }\n",
              "\n",
              "    [theme=dark] .colab-df-convert {\n",
              "      background-color: #3B4455;\n",
              "      fill: #D2E3FC;\n",
              "    }\n",
              "\n",
              "    [theme=dark] .colab-df-convert:hover {\n",
              "      background-color: #434B5C;\n",
              "      box-shadow: 0px 1px 3px 1px rgba(0, 0, 0, 0.15);\n",
              "      filter: drop-shadow(0px 1px 2px rgba(0, 0, 0, 0.3));\n",
              "      fill: #FFFFFF;\n",
              "    }\n",
              "  </style>\n",
              "\n",
              "      <script>\n",
              "        const buttonEl =\n",
              "          document.querySelector('#df-547ce5e9-f164-4c86-bc41-45b804989f2e button.colab-df-convert');\n",
              "        buttonEl.style.display =\n",
              "          google.colab.kernel.accessAllowed ? 'block' : 'none';\n",
              "\n",
              "        async function convertToInteractive(key) {\n",
              "          const element = document.querySelector('#df-547ce5e9-f164-4c86-bc41-45b804989f2e');\n",
              "          const dataTable =\n",
              "            await google.colab.kernel.invokeFunction('convertToInteractive',\n",
              "                                                     [key], {});\n",
              "          if (!dataTable) return;\n",
              "\n",
              "          const docLinkHtml = 'Like what you see? Visit the ' +\n",
              "            '<a target=\"_blank\" href=https://colab.research.google.com/notebooks/data_table.ipynb>data table notebook</a>'\n",
              "            + ' to learn more about interactive tables.';\n",
              "          element.innerHTML = '';\n",
              "          dataTable['output_type'] = 'display_data';\n",
              "          await google.colab.output.renderOutput(dataTable, element);\n",
              "          const docLink = document.createElement('div');\n",
              "          docLink.innerHTML = docLinkHtml;\n",
              "          element.appendChild(docLink);\n",
              "        }\n",
              "      </script>\n",
              "    </div>\n",
              "  </div>\n",
              "  "
            ]
          },
          "metadata": {},
          "execution_count": 5
        }
      ]
    },
    {
      "cell_type": "code",
      "source": [
        "data_cut = data[:]\n",
        "plt.plot(data_cut['DateTime'], data_cut['Заражений за день'])"
      ],
      "metadata": {
        "colab": {
          "base_uri": "https://localhost:8080/",
          "height": 294
        },
        "id": "aU1dgMG__v1N",
        "outputId": "2a0e531f-e1bf-407e-9327-90ca2d927836"
      },
      "execution_count": 22,
      "outputs": [
        {
          "output_type": "execute_result",
          "data": {
            "text/plain": [
              "[<matplotlib.lines.Line2D at 0x7f6a4e956c10>]"
            ]
          },
          "metadata": {},
          "execution_count": 22
        },
        {
          "output_type": "display_data",
          "data": {
            "text/plain": [
              "<Figure size 432x288 with 1 Axes>"
            ],
            "image/png": "[encoded data removed]"
          },
          "metadata": {
            "needs_background": "light"
          }
        }
      ]
    },
    {
      "cell_type": "code",
      "source": [
        "spectra = np.fft.fft(data_cut['Заражений за день'])\n",
        "a = (spectra.real**2 + spectra.imag**2)**(1/2)\n",
        "theta = np.angle(spectra)"
      ],
      "metadata": {
        "id": "MZ6H48a0NHhg"
      },
      "execution_count": 24,
      "outputs": []
    },
    {
      "cell_type": "code",
      "source": [
        "new_x = range(1,len(data_cut['DateTime'])+1)\n",
        "new_y = np.zeros(data_cut['Заражений за день'].shape)\n",
        "fd = 1 / np.mean(np.diff(new_x))\n",
        "for i in range(int(len(new_y) / 8)):\n",
        "    new_y += np.cos(2 * np.pi * fd/len(new_y) * i * new_x  + theta[i]) * a[i]"
      ],
      "metadata": {
        "id": "XNL_7a7vPyDb"
      },
      "execution_count": 41,
      "outputs": []
    },
    {
      "cell_type": "code",
      "source": [
        "fd"
      ],
      "metadata": {
        "colab": {
          "base_uri": "https://localhost:8080/"
        },
        "id": "51MyoFuAdY65",
        "outputId": "fcaf271e-ea01-41e4-a1ce-17a857b1021a"
      },
      "execution_count": 48,
      "outputs": [
        {
          "output_type": "execute_result",
          "data": {
            "text/plain": [
              "1.0"
            ]
          },
          "metadata": {},
          "execution_count": 48
        }
      ]
    },
    {
      "cell_type": "code",
      "source": [
        "data_cut['Заражений за день']"
      ],
      "metadata": {
        "colab": {
          "base_uri": "https://localhost:8080/"
        },
        "id": "Vc3a25KKa-CO",
        "outputId": "cb7395c9-024e-4b11-f3e2-47d3eeb41682"
      },
      "execution_count": 43,
      "outputs": [
        {
          "output_type": "execute_result",
          "data": {
            "text/plain": [
              "0          557\n",
              "1          100\n",
              "2          287\n",
              "3          493\n",
              "4          683\n",
              "         ...  \n",
              "1020    324713\n",
              "1021    435570\n",
              "1022    422818\n",
              "1023    453968\n",
              "1024    479528\n",
              "Name: Заражений за день, Length: 1025, dtype: int64"
            ]
          },
          "metadata": {},
          "execution_count": 43
        }
      ]
    },
    {
      "cell_type": "markdown",
      "source": [
        "### **Высокочастотная периодичность прироста:**"
      ],
      "metadata": {
        "id": "H7nBb0HX1C0c"
      }
    },
    {
      "cell_type": "code",
      "source": [
        "plt.plot(new_x, data_cut['Заражений за день'])\n",
        "ys = []\n",
        "for deg in [51]:\n",
        "    z = np.polyfit(new_x, data_cut['Заражений за день'], deg)\n",
        "    p = np.poly1d(z)\n",
        "    new_y = p(new_x)\n",
        "    plt.plot(new_x, new_y, label=deg)\n",
        "plt.legend()\n",
        "plt.title(\"Прирост по дням\")"
      ],
      "metadata": {
        "colab": {
          "base_uri": "https://localhost:8080/",
          "height": 336
        },
        "id": "fC0a8txZQwxr",
        "outputId": "a380a2cc-e57a-4264-a52a-bfc7de05b8b2"
      },
      "execution_count": 79,
      "outputs": [
        {
          "output_type": "stream",
          "name": "stderr",
          "text": [
            "/usr/local/lib/python3.7/dist-packages/IPython/core/interactiveshell.py:3326: RankWarning: Polyfit may be poorly conditioned\n",
            "  exec(code_obj, self.user_global_ns, self.user_ns)\n"
          ]
        },
        {
          "output_type": "execute_result",
          "data": {
            "text/plain": [
              "Text(0.5, 1.0, 'Прирост по дням')"
            ]
          },
          "metadata": {},
          "execution_count": 79
        },
        {
          "output_type": "display_data",
          "data": {
            "text/plain": [
              "<Figure size 432x288 with 1 Axes>"
            ],
            "image/png": "[encoded data removed]"
          },
          "metadata": {
            "needs_background": "light"
          }
        }
      ]
    },
    {
      "cell_type": "code",
      "source": [
        "deriv = np.polyder(p)\n",
        "deriv2 = np.polyder(deriv)"
      ],
      "metadata": {
        "id": "avw1xasBe4jo"
      },
      "execution_count": 135,
      "outputs": []
    },
    {
      "cell_type": "code",
      "source": [
        "deriv"
      ],
      "metadata": {
        "colab": {
          "base_uri": "https://localhost:8080/"
        },
        "id": "-WRjOBhgq132",
        "outputId": "490c0945-940f-4d89-b0cf-c9bbe32f8875"
      },
      "execution_count": 131,
      "outputs": [
        {
          "output_type": "execute_result",
          "data": {
            "text/plain": [
              "poly1d([-7.49900218e-137,  2.55666069e-133, -1.30485960e-130,\n",
              "       -2.24055149e-127, -3.45670560e-125,  1.71966982e-121,\n",
              "        2.17467548e-118,  9.32233451e-116, -9.42459769e-113,\n",
              "       -2.17924353e-109, -2.06270028e-106, -7.22725909e-104,\n",
              "        1.04611178e-100,  2.25915571e-097,  2.25971128e-094,\n",
              "        1.03991102e-091, -7.66752327e-089, -2.20576714e-085,\n",
              "       -2.49077315e-082, -1.42333914e-079,  4.62033480e-077,\n",
              "        2.13686772e-073,  2.61715320e-070,  1.54675140e-067,\n",
              "       -5.06799153e-065, -2.28622378e-061, -2.57623055e-058,\n",
              "       -1.06367003e-055,  1.26645305e-052,  2.64866754e-049,\n",
              "        1.84892100e-046, -6.06549605e-044, -2.50773847e-040,\n",
              "       -1.82957470e-037,  9.07953430e-035,  2.52327658e-031,\n",
              "        7.00405699e-029, -2.15732789e-025, -1.30580927e-022,\n",
              "        2.02696002e-019,  7.87263767e-017, -2.39747533e-013,\n",
              "        1.78448363e-010, -7.34999646e-008,  1.90743829e-005,\n",
              "       -3.21959672e-003,  3.49988051e-001, -2.34706518e+001,\n",
              "        8.90900949e+002, -1.61933338e+004,  9.60187711e+004])"
            ]
          },
          "metadata": {},
          "execution_count": 131
        }
      ]
    },
    {
      "cell_type": "code",
      "source": [
        "new_y = deriv(new_x)\n",
        "plt.plot(new_x, new_y, label=deg)"
      ],
      "metadata": {
        "colab": {
          "base_uri": "https://localhost:8080/",
          "height": 283
        },
        "id": "IBDW8io7kRY6",
        "outputId": "f12cac17-9d26-4255-d5c3-a6c5a10aa3ca"
      },
      "execution_count": 132,
      "outputs": [
        {
          "output_type": "execute_result",
          "data": {
            "text/plain": [
              "[<matplotlib.lines.Line2D at 0x7f6a47ad6910>]"
            ]
          },
          "metadata": {},
          "execution_count": 132
        },
        {
          "output_type": "display_data",
          "data": {
            "text/plain": [
              "<Figure size 432x288 with 1 Axes>"
            ],
            "image/png": "[encoded data removed]"
          },
          "metadata": {
            "needs_background": "light"
          }
        }
      ]
    },
    {
      "cell_type": "code",
      "source": [
        "roots=np.roots(deriv)\n",
        "roots"
      ],
      "metadata": {
        "colab": {
          "base_uri": "https://localhost:8080/"
        },
        "id": "UsqUd_dmlwdr",
        "outputId": "44df2051-a3bb-41f0-cf6d-32951b74e241"
      },
      "execution_count": 133,
      "outputs": [
        {
          "output_type": "execute_result",
          "data": {
            "text/plain": [
              "array([ 1698.41330896   +0.j        , -1006.39450436   +0.j        ,\n",
              "        -995.1161986  +150.64744795j,  -995.1161986  -150.64744795j,\n",
              "        -961.45031817 +298.18302368j,  -961.45031817 -298.18302368j,\n",
              "        -905.91796975 +439.53865862j,  -905.91796975 -439.53865862j,\n",
              "        -829.39685568 +571.68425196j,  -829.39685568 -571.68425196j,\n",
              "        -733.05407378 +691.69125525j,  -733.05407378 -691.69125525j,\n",
              "        -618.38236856 +796.73173476j,  -618.38236856 -796.73173476j,\n",
              "        -487.1300558  +884.06449472j,  -487.1300558  -884.06449472j,\n",
              "        -341.25413043 +951.02011454j,  -341.25413043 -951.02011454j,\n",
              "        -182.85851611 +994.93162714j,  -182.85851611 -994.93162714j,\n",
              "         -14.02939344+1012.93996996j,   -14.02939344-1012.93996996j,\n",
              "         163.42010347+1001.54676364j,   163.42010347-1001.54676364j,\n",
              "         348.77392832 +955.30439325j,   348.77392832 -955.30439325j,\n",
              "         545.91303061 +861.52376347j,   545.91303061 -861.52376347j,\n",
              "        1020.8400476    +0.j        ,  1010.63705129   +0.j        ,\n",
              "         999.987844     +0.j        ,   979.14384549   +0.j        ,\n",
              "         962.16421007   +0.j        ,   919.55145895   +0.j        ,\n",
              "         867.27860935   +0.j        ,   836.31692222  +18.20512173j,\n",
              "         836.31692222  -18.20512173j,   742.19937805   +0.j        ,\n",
              "         650.21109834   +0.j        ,   588.63338989   +0.j        ,\n",
              "         525.74806426   +0.j        ,   456.03046126   +0.j        ,\n",
              "         386.29077452   +0.j        ,   317.25400206   +0.j        ,\n",
              "         226.41366656   +0.j        ,   181.16756994   +0.j        ,\n",
              "         113.43378234   +0.j        ,    74.08555756   +0.j        ,\n",
              "          33.83282549   +0.j        ,    10.7438633    +0.j        ])"
            ]
          },
          "metadata": {},
          "execution_count": 133
        }
      ]
    },
    {
      "cell_type": "code",
      "source": [
        "real_valued = roots.real[abs(roots.imag)==0]\n",
        "extremums = real_valued[real_valued>0]\n",
        "indexes = np.array([index for index,value in enumerate(roots) if (value.imag == 0)*(value.real>0)])"
      ],
      "metadata": {
        "id": "tjQPztjoohzM"
      },
      "execution_count": 182,
      "outputs": []
    },
    {
      "cell_type": "code",
      "source": [
        "deriv2"
      ],
      "metadata": {
        "colab": {
          "base_uri": "https://localhost:8080/"
        },
        "id": "I5cvdLXPpElc",
        "outputId": "047960d4-e2a6-478a-ee89-c83794b9cfec"
      },
      "execution_count": 136,
      "outputs": [
        {
          "output_type": "execute_result",
          "data": {
            "text/plain": [
              "poly1d([-3.74950109e-135,  1.25276374e-131, -6.26332609e-129,\n",
              "       -1.05305920e-125, -1.59008457e-123,  7.73851417e-120,\n",
              "        9.56857211e-117,  4.00860384e-114, -3.95833103e-111,\n",
              "       -8.93489846e-108, -8.25080113e-105, -2.81863105e-102,\n",
              "        3.97522477e-099,  8.35887614e-096,  8.13496059e-093,\n",
              "        3.63968858e-090, -2.60695791e-087, -7.27903157e-084,\n",
              "       -7.97047408e-081, -4.41235134e-078,  1.38610044e-075,\n",
              "        6.19691640e-072,  7.32802897e-069,  4.17622878e-066,\n",
              "       -1.31767780e-063, -5.71555945e-060, -6.18295333e-057,\n",
              "       -2.44644107e-054,  2.78619670e-051,  5.56220183e-048,\n",
              "        3.69784200e-045, -1.15244425e-042, -4.51392924e-039,\n",
              "       -3.11027699e-036,  1.45272549e-033,  3.78491487e-030,\n",
              "        9.80567979e-028, -2.80452626e-024, -1.56697113e-021,\n",
              "        2.22965602e-018,  7.87263767e-016, -2.15772779e-012,\n",
              "        1.42758691e-009, -5.14499752e-007,  1.14446298e-004,\n",
              "       -1.60979836e-002,  1.39995220e+000, -7.04119554e+001,\n",
              "        1.78180190e+003, -1.61933338e+004])"
            ]
          },
          "metadata": {},
          "execution_count": 136
        }
      ]
    },
    {
      "cell_type": "code",
      "source": [
        "indexes2 = np.array([index for index,value in enumerate(deriv2) if value>0])"
      ],
      "metadata": {
        "id": "OrBYdaH8wkkf"
      },
      "execution_count": 181,
      "outputs": []
    },
    {
      "cell_type": "code",
      "source": [
        "answer=np.array(extremums[np.array([index for index,value in enumerate(np.in1d(indexes,indexes2)) if value==True])],dtype=int)"
      ],
      "metadata": {
        "id": "-4dFZ123yJsv"
      },
      "execution_count": 196,
      "outputs": []
    },
    {
      "cell_type": "code",
      "source": [
        "answer"
      ],
      "metadata": {
        "colab": {
          "base_uri": "https://localhost:8080/"
        },
        "id": "7GdfVTqszuwo",
        "outputId": "d2c8c0f5-a24e-4ba3-d939-d43a252e5f5d"
      },
      "execution_count": 197,
      "outputs": [
        {
          "output_type": "execute_result",
          "data": {
            "text/plain": [
              "array([1020, 1010,  999,  867,  588,  525,  386,  226,  113,   33])"
            ]
          },
          "metadata": {},
          "execution_count": 197
        }
      ]
    },
    {
      "cell_type": "markdown",
      "source": [
        "### **Пики заболеваемости:**"
      ],
      "metadata": {
        "id": "_O254ope03WS"
      }
    },
    {
      "cell_type": "code",
      "source": [
        "data_cut['DateTime'][answer]"
      ],
      "metadata": {
        "colab": {
          "base_uri": "https://localhost:8080/"
        },
        "id": "1nOdOFCg0abg",
        "outputId": "a1e34a0a-8077-43f2-bfc3-593c40093c6f"
      },
      "execution_count": 198,
      "outputs": [
        {
          "output_type": "execute_result",
          "data": {
            "text/plain": [
              "1020    2022-11-07 00:00:00\n",
              "1010    2022-10-28 00:00:00\n",
              "999     2022-10-17 00:00:00\n",
              "867     2022-06-07 00:00:00\n",
              "588     2021-09-01 00:00:00\n",
              "525     2021-06-30 00:00:00\n",
              "386     2021-02-11 00:00:00\n",
              "226     2020-09-04 00:00:00\n",
              "113     2020-05-14 00:00:00\n",
              "33      2020-02-24 00:00:00\n",
              "Name: DateTime, dtype: object"
            ]
          },
          "metadata": {},
          "execution_count": 198
        }
      ]
    },
    {
      "cell_type": "code",
      "source": [],
      "metadata": {
        "id": "NrMFZpzb00ao"
      },
      "execution_count": null,
      "outputs": []
    }
  ]
}